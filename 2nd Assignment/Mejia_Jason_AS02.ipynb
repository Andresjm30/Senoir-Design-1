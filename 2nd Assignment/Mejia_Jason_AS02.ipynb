{
 "cells": [
  {
   "cell_type": "code",
   "execution_count": 1,
   "id": "royal-concert",
   "metadata": {},
   "outputs": [
    {
     "name": "stdout",
     "output_type": "stream",
     "text": [
      "Eigenvalues: [-4.54138127+0.j  1.54138127+0.j  1.        +0.j]\n",
      "Real Eigenvalues: [-4.54138127  1.54138127  1.        ]\n",
      "Eigenvectors: \n",
      "[[ 1.74855890e-01 -6.60372686e-01  4.47213595e-01]\n",
      " [ 9.68943154e-01  3.57513400e-01  7.41055684e-18]\n",
      " [-1.74855890e-01  6.60372686e-01  8.94427191e-01]]\n",
      "Dominant Eiganvalue: 4.541381265149109\n",
      "Dominant Eiganvector: \n",
      "[[ 0.17485589]\n",
      " [ 0.96894315]\n",
      " [-0.17485589]]\n"
     ]
    }
   ],
   "source": [
    "import numpy as np\n",
    "import matplotlib.pyplot as plt\n",
    "import scipy.linalg as la\n",
    "\n",
    "A = np.array([[1,-1,0],[-2,-4,1],[0,1,1]])\n",
    "eigvals, eigvecs = la.eig(A)\n",
    "print(\"Eigenvalues: \" + str(eigvals))\n",
    "eigvals = eigvals.real\n",
    "print(\"Real Eigenvalues: \" + str(eigvals))\n",
    "print(\"Eigenvectors: \\n\" + str(eigvecs))\n",
    "\n",
    "maxval = abs(eigvals[0])\n",
    "col = 0\n",
    "for i in range(0, len(eigvals)):\n",
    "     if(abs(eigvals[i]) > maxval):    \n",
    "       maxval = eigvals[i];\n",
    "       col = i;\n",
    "maxvec = eigvecs[:,col].reshape(3,1)\n",
    "print(\"Dominant Eiganvalue: \" + str(maxval))\n",
    "print(\"Dominant Eiganvector: \\n\" + str(maxvec))"
   ]
  },
  {
   "cell_type": "markdown",
   "id": "breathing-aerospace",
   "metadata": {},
   "source": [
    "Assignment 2 Analysis\n",
    "- Above show the eigenvalues and eigenvectors for the three dimensioanl difference equation\n",
    "- The eigenvalues do correspond to their eigenvectorsas seen above in the matrix\n",
    "- The dominant eigenvalue would be 4.54138126.. because its absolute value is greater than the other values. So the corresponding eigenvector to that eigenvalue will be the dominant eigenvector. \n",
    "- Since the absolute value of the dominant eigenvalue is greater than 1 the system will diverge to infinity. The stability of this system is proven to be unstable. \n",
    "- Since the magnitude of the dominant eigenvector is less then 1 then the component is shrinking. This is a similar interpretation from the absolute value from the eigenvalue.\n"
   ]
  }
 ],
 "metadata": {
  "kernelspec": {
   "display_name": "Python 3",
   "language": "python",
   "name": "python3"
  },
  "language_info": {
   "codemirror_mode": {
    "name": "ipython",
    "version": 3
   },
   "file_extension": ".py",
   "mimetype": "text/x-python",
   "name": "python",
   "nbconvert_exporter": "python",
   "pygments_lexer": "ipython3",
   "version": "3.9.0"
  }
 },
 "nbformat": 4,
 "nbformat_minor": 5
}
