{
 "cells": [
  {
   "cell_type": "code",
   "execution_count": 1,
   "id": "lyric-nancy",
   "metadata": {},
   "outputs": [
    {
     "name": "stdout",
     "output_type": "stream",
     "text": [
      "Equilibrium for -2.0\n",
      "x = -1.33409398782240\n",
      "y = 2.54261748477800\n",
      "Equilibrium for -1.0\n",
      "x = -0.408865836943412\n",
      "y = 1.38608229617926\n",
      "Equilibrium for -0.5\n",
      "x = 0.804847747008334\n",
      "y = -0.131059683760418\n",
      "Equilibrium for 0\n",
      "x = 1.19940803524404\n",
      "y = -0.624260044055044\n"
     ]
    }
   ],
   "source": [
    "import numpy as np\n",
    "import scipy.linalg as la\n",
    "from sympy import symbols, Eq, solve, diff\n",
    "from pylab import plot, axis, title, subplot, show\n",
    "\n",
    "def firsteq(x, y, z):\n",
    "    return 3*(x - (x**3/3) + y + z)\n",
    "\n",
    "def seceq(x, y):\n",
    "    return (-1)*((x - 0.7 + 0.8*y)/ 3)\n",
    "\n",
    "def myFunction(z):\n",
    "    x, y = symbols('x y')\n",
    "\n",
    "    eq1 = Eq(firsteq(x, y, z), 0)\n",
    "    eq2 = Eq(seceq(x, y), 0)\n",
    "\n",
    "    solve((eq1, eq2), (x, y), dict=True)\n",
    "\n",
    "    sol_dict = solve((eq1,eq2), (x, y))\n",
    "    a1 = sol_dict[0][0]\n",
    "    a2 = sol_dict[0][1]\n",
    "    return a1, a2\n",
    "\n",
    "def findequil():\n",
    "    size = [-2.0, -1.0, -0.5, 0,];\n",
    "    for i in size:\n",
    "        print(\"Equilibrium for \" + str(i));\n",
    "        x, y = myFunction(i)\n",
    "        print('x = ' + str(x))\n",
    "        print('y = ' + str(y))\n",
    "\n",
    "findequil();"
   ]
  },
  {
   "cell_type": "markdown",
   "id": "ancient-activation",
   "metadata": {},
   "source": [
    "These are the values of x and y when looking at the equilibrium points"
   ]
  },
  {
   "cell_type": "code",
   "execution_count": 2,
   "id": "alert-medicare",
   "metadata": {},
   "outputs": [
    {
     "name": "stdout",
     "output_type": "stream",
     "text": [
      "Partial Derivative of x on the First Equation: 3 - 3*x**2\n",
      "Partial Derivative of y on the First Equation: 3\n",
      "Partial Derivative of x on the Second Equation: -1/3\n",
      "Partial Derivative of y on the Second Equation: -0.266666666666667\n",
      "Eigenvalues when z equals -2.0 : [-1.57704036+0.j -1.02904988+0.j]\n",
      "Dominant Eiganvalue: 1.5770403617868125\n",
      "Eigenvalues when z equals -1.0 : [2.07116838+0.j 0.16064782+0.j]\n",
      "Dominant Eiganvalue: 2.07116837901899\n",
      "Eigenvalues when z equals -0.5 : [0.39499527+0.74913221j 0.39499527-0.74913221j]\n",
      "Dominant Eiganvalue: 0.8468886195683786\n",
      "Eigenvalues when z equals 0 : [-8.81216563+0.j -0.38357369+0.j]\n",
      "Dominant Eiganvalue: 8.81216563354329\n"
     ]
    }
   ],
   "source": [
    "def partialderiv():\n",
    "    x, y, z= symbols('x y z')\n",
    "    fx = diff(firsteq(x, y, z), x)\n",
    "    fy = diff(firsteq(x, y, z), y)\n",
    "    gx = diff(seceq(x, y), x)\n",
    "    gy = diff(seceq(x, y), y)\n",
    "    print(\"Partial Derivative of x on the First Equation: \" + str(fx))\n",
    "    print(\"Partial Derivative of y on the First Equation: \" + str(fy))\n",
    "    print(\"Partial Derivative of x on the Second Equation: \" + str(gx))\n",
    "    print(\"Partial Derivative of y on the Second Equation: \" + str(gy))\n",
    "    stability(fx, fy, gx, gy);\n",
    "\n",
    "def stability(x1, x2, x3, x4):\n",
    "    values = [-1.33409398, -0.40886583, 0.8048477, 1.99408035]\n",
    "    z = [-2.0, -1.0, -0.5, 0,]\n",
    "    for i in range(0, 4):\n",
    "        fx1 = 3 - 3 * (values[i]**2)\n",
    "        A = np.array([[fx1, -0.333],[3, -0.26667]])\n",
    "        eigvals, eigvecs = la.eig(A)\n",
    "        print(\"Eigenvalues when z equals \" + str(z[i]) + \" : \" + str(eigvals))\n",
    "        maxval = abs(eigvals[0])\n",
    "        col = 0\n",
    "        for i in range(0, len(eigvals)):\n",
    "            if(abs(eigvals[i]) > maxval):\n",
    "                maxval = eigvals[i];\n",
    "                col = i;\n",
    "        print(\"Dominant Eiganvalue: \" + str(maxval))\n",
    "\n",
    "partialderiv();"
   ]
  },
  {
   "cell_type": "markdown",
   "id": "matched-housing",
   "metadata": {},
   "source": [
    "In this section of the code we have found the Jacobian Matrix for the given problem. \n",
    "For the Jacobian Matrix, I have inserted the values that we needed when z = -2.0, -1.0, -0.5, 0.\n",
    "After that we find the eigen values for each of the Jacobian Matrices created and then distinguish the dominant eigen value. \n",
    "By the distinguished dominant eigen value, we can find the critical thresholds. \n",
    "The critcal thresholds are when z = -1.0 and -0.5. That is beccause their values are non-zero imaginery values."
   ]
  },
  {
   "cell_type": "code",
   "execution_count": 3,
   "id": "changed-productivity",
   "metadata": {},
   "outputs": [
    {
     "data": {
      "image/png": "[encoded data removed]",
      "text/plain": [
       "<Figure size 432x288 with 4 Axes>"
      ]
     },
     "metadata": {
      "needs_background": "light"
     },
     "output_type": "display_data"
    }
   ],
   "source": [
    "Dt = 0.01\n",
    "def initialize():\n",
    "    global u, uresult, v, vresult\n",
    "    u = v = 0.01\n",
    "    uresult = [u]\n",
    "    vresult = [v]\n",
    "\n",
    "def observe():\n",
    "    global u, uresult, v, vresult\n",
    "    uresult.append(u)\n",
    "    vresult.append(v)\n",
    "\n",
    "def update():\n",
    "    global u, uresult, v, vresult\n",
    "    nextx = 3*(u - (u**3/3) + v + z) * Dt\n",
    "    nexty = (-1)*((u - 0.7 + 0.8*v)/ 3) * Dt\n",
    "    u, v = nextx, nexty\n",
    "\n",
    "def plot_phase_space():\n",
    "    initialize()\n",
    "    for t in range(10000):\n",
    "        update()\n",
    "        observe()\n",
    "    plot(uresult, vresult)\n",
    "    axis('image')\n",
    "    axis([-0.1, 0.1, -0.1, 0.1])\n",
    "    title('z = ' + str(z))\n",
    "\n",
    "zs = [-2.0, -1.0, -0.5, 0]\n",
    "for i in range(len(zs)):\n",
    "    subplot(1, len(zs), i + 1)\n",
    "    z = zs[i]\n",
    "    plot_phase_space()\n",
    "\n",
    "show()"
   ]
  },
  {
   "cell_type": "markdown",
   "id": "surprising-vaccine",
   "metadata": {},
   "source": [
    "Here is what I can display about the bifurcation. I had struggled to display this diagram. To know eaxactly how to display it. \n",
    "I took the example from the textbook section talking about the hopf bifurcations. \n",
    "Overall I found the assignment interesting, but I did struggle with the assignment but I am learning and going to be prepared for the next one."
   ]
  }
 ],
 "metadata": {
  "kernelspec": {
   "display_name": "Python 3",
   "language": "python",
   "name": "python3"
  },
  "language_info": {
   "codemirror_mode": {
    "name": "ipython",
    "version": 3
   },
   "file_extension": ".py",
   "mimetype": "text/x-python",
   "name": "python",
   "nbconvert_exporter": "python",
   "pygments_lexer": "ipython3",
   "version": "3.9.0"
  }
 },
 "nbformat": 4,
 "nbformat_minor": 5
}
